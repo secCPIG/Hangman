{
 "cells": [
  {
   "cell_type": "markdown",
   "id": "e8b97174-4c1c-41d1-b67a-9ff08065f425",
   "metadata": {},
   "source": [
    "# Data Science Tools and Ecosystem"
   ]
  },
  {
   "cell_type": "markdown",
   "id": "b91b7881-2cff-44fd-b135-bdd2c61be2d6",
   "metadata": {},
   "source": [
    "# In this notebook, Data Science Tools and Ecosystem are summarized."
   ]
  },
  {
   "cell_type": "markdown",
   "id": "2e655c29-db4b-4517-8c92-64ad579538c5",
   "metadata": {},
   "source": [
    "Some of the popular languages that Data Scientists use are:\n",
    "1.Python\n",
    "2.R\n",
    "3.Julia"
   ]
  },
  {
   "cell_type": "markdown",
   "id": "ff6b768a-3674-4aeb-9a36-2facba8029aa",
   "metadata": {},
   "source": [
    "Some of the commonly used libraries used by Data Scientists include:\n",
    "1.pandas\n",
    "2.numpy\n",
    "3.tensorflow"
   ]
  },
  {
   "cell_type": "markdown",
   "id": "f0f598a2-51ac-4c80-8798-108a8d884d0c",
   "metadata": {},
   "source": [
    "| Data Science Tools           |\n",
    "|-----------------------------|\n",
    "| Jupyter Notebook            |\n",
    "| RStudio                     |\n",
    "| Visual Studio Code (VS Code) |\n"
   ]
  },
  {
   "cell_type": "markdown",
   "id": "bb191e4b-d472-4e6f-9638-89db680e88bb",
   "metadata": {},
   "source": [
    "### Below are a few examples of evaluating arithmetic expressions in Python"
   ]
  },
  {
   "cell_type": "code",
   "execution_count": 9,
   "id": "08e467ed-a30b-474a-b285-c5c4d1b0a9c4",
   "metadata": {},
   "outputs": [
    {
     "data": {
      "text/plain": [
       "17"
      ]
     },
     "execution_count": 9,
     "metadata": {},
     "output_type": "execute_result"
    }
   ],
   "source": [
    "(3*4)+5"
   ]
  },
  {
   "cell_type": "code",
   "execution_count": 10,
   "id": "8b18bdd7-e123-465e-bee5-9e73428b68e7",
   "metadata": {},
   "outputs": [
    {
     "data": {
      "text/plain": [
       "3.3333333333333335"
      ]
     },
     "execution_count": 10,
     "metadata": {},
     "output_type": "execute_result"
    }
   ],
   "source": [
    "hours = 200 / 60\n",
    "hours"
   ]
  },
  {
   "cell_type": "markdown",
   "id": "a1616b86-ecef-4565-87a0-68285654e455",
   "metadata": {},
   "source": [
    "Objectives:\n",
    "\n",
    "- List popular languages for Data Science  \n",
    "- Identify open-source development environments used in Data Science  \n",
    "- Understand how to create tables in Jupyter Notebook Markdown cells  \n",
    "- Write and run simple Python expressions  \n",
    "- Convert units (e.g., minutes to hours) using Python  "
   ]
  },
  {
   "cell_type": "markdown",
   "id": "3e72612a-ab8b-49cd-8336-ea7f5e52553a",
   "metadata": {},
   "source": [
    "## Author\n",
    "Aavash Chhetri"
   ]
  },
  {
   "cell_type": "code",
   "execution_count": null,
   "id": "01ed2644-27ce-4d24-b7e0-f9030b9dee4d",
   "metadata": {},
   "outputs": [],
   "source": []
  }
 ],
 "metadata": {
  "kernelspec": {
   "display_name": "Python 3 (ipykernel)",
   "language": "python",
   "name": "python3"
  },
  "language_info": {
   "codemirror_mode": {
    "name": "ipython",
    "version": 3
   },
   "file_extension": ".py",
   "mimetype": "text/x-python",
   "name": "python",
   "nbconvert_exporter": "python",
   "pygments_lexer": "ipython3",
   "version": "3.10.4"
  }
 },
 "nbformat": 4,
 "nbformat_minor": 5
}
